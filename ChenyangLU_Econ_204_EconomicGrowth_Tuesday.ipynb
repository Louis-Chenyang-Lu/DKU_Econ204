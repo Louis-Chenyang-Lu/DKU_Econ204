{
  "nbformat": 4,
  "nbformat_minor": 0,
  "metadata": {
    "colab": {
      "name": "ChenyangLU_Econ_204_EconomicGrowth: Tuesday.ipynb",
      "provenance": [],
      "collapsed_sections": [],
      "include_colab_link": true
    },
    "kernelspec": {
      "name": "python3",
      "display_name": "Python 3"
    }
  },
  "cells": [
    {
      "cell_type": "markdown",
      "metadata": {
        "id": "view-in-github",
        "colab_type": "text"
      },
      "source": [
        "<a href=\"https://colab.research.google.com/github/Louis-Chenyang-Lu/DKU_Econ204/blob/main/ChenyangLU_Econ_204_EconomicGrowth_Tuesday.ipynb\" target=\"_parent\"><img src=\"https://colab.research.google.com/assets/colab-badge.svg\" alt=\"Open In Colab\"/></a>"
      ]
    },
    {
      "cell_type": "markdown",
      "metadata": {
        "id": "R7fwSVGY6qUN"
      },
      "source": [
        "#**Step 1: Define the Exognous Variables**\n",
        "\n",
        "The saving rate: $s$\n",
        "\n",
        "The depreciation rate: $\\delta$\n",
        "\n",
        "The popoulation growth rate: $n$\n",
        "\n",
        "The Technology level: $A$\n",
        "\n",
        "The Initial labor level: $L(0)$\n",
        "\n",
        "The Initial capital level: $K(0)$\n",
        "\n",
        "## You can change the exogenous variable in the next box and go to Runtime-choose run all. Then you will see how the steady state will change Please make sure you change only one variable each time to see the comparative statics of that variable change. \n",
        "\n",
        "\n",
        "\n"
      ]
    },
    {
      "cell_type": "code",
      "metadata": {
        "id": "h2Tg5n_656xi"
      },
      "source": [
        "s = 0.5\n",
        "snew = 0.7\n",
        "delta = 0.1\n",
        "deltanew = 0.3\n",
        "n=2\n",
        "nnew = 3\n",
        "A=10\n",
        "Anew = 10\n",
        "L0 = 100\n",
        "K0 = 100\n",
        "L0new = 200\n",
        "K0new = 150"
      ],
      "execution_count": null,
      "outputs": []
    },
    {
      "cell_type": "code",
      "metadata": {
        "id": "NW1OJSt5uq-k"
      },
      "source": [
        "k0=K0/L0\n",
        "k0new = K0new/L0new"
      ],
      "execution_count": null,
      "outputs": []
    },
    {
      "cell_type": "markdown",
      "metadata": {
        "id": "VPAThZQq7qcp"
      },
      "source": [
        "Simulate $L =L(0)*e^{nt}$"
      ]
    },
    {
      "cell_type": "code",
      "metadata": {
        "id": "SaoDi87-9Ruf"
      },
      "source": [
        "### import the package\n",
        "import numpy as np\n",
        "import matplotlib.pyplot as plt\n",
        "from sympy.solvers import solve\n",
        "from sympy import Symbol"
      ],
      "execution_count": null,
      "outputs": []
    },
    {
      "cell_type": "code",
      "metadata": {
        "id": "tdb9YJMf8WcG"
      },
      "source": [
        "### define the function\n",
        "def L(t,L0change,n0):\n",
        "  L1=L0change * np.exp(n0*t)\n",
        "  return L1"
      ],
      "execution_count": null,
      "outputs": []
    },
    {
      "cell_type": "code",
      "metadata": {
        "id": "LJfz30TU9OPx",
        "colab": {
          "base_uri": "https://localhost:8080/"
        },
        "outputId": "0e295b63-3983-437b-9d0f-1327bcfb4c9f"
      },
      "source": [
        "### check the initial value\n",
        "L(0,L0,n)"
      ],
      "execution_count": null,
      "outputs": [
        {
          "output_type": "execute_result",
          "data": {
            "text/plain": [
              "100.0"
            ]
          },
          "metadata": {
            "tags": []
          },
          "execution_count": 975
        }
      ]
    },
    {
      "cell_type": "code",
      "metadata": {
        "id": "bsGDSnAI-Hn0"
      },
      "source": [
        "t = np.linspace(0, 10)\n",
        "Ltarget = L(t,L0,n)"
      ],
      "execution_count": null,
      "outputs": []
    },
    {
      "cell_type": "code",
      "metadata": {
        "id": "u3eQmAy4T0jq"
      },
      "source": [
        "Lnew = L(t,L0new,n)\n",
        "L1 = L(t,L0,nnew)"
      ],
      "execution_count": null,
      "outputs": []
    },
    {
      "cell_type": "code",
      "metadata": {
        "id": "rnmjtT3Elw5_",
        "colab": {
          "base_uri": "https://localhost:8080/",
          "height": 331
        },
        "outputId": "1413923c-72d3-4b4a-f196-371bc02b2c15"
      },
      "source": [
        "### plot the function\n",
        "fig= plt.figure(figsize=(10,5))\n",
        "plt.plot(t, Ltarget)\n",
        "plt.plot(t, Lnew, linestyle = \"--\", color = \"red\")\n",
        "plt.show()"
      ],
      "execution_count": null,
      "outputs": [
        {
          "output_type": "display_data",
          "data": {
            "image/png": "[encoded data removed]",
            "text/plain": [
              "<Figure size 720x360 with 1 Axes>"
            ]
          },
          "metadata": {
            "tags": [],
            "needs_background": "light"
          }
        }
      ]
    },
    {
      "cell_type": "code",
      "metadata": {
        "id": "--_1nI2I9gBB",
        "colab": {
          "base_uri": "https://localhost:8080/",
          "height": 320
        },
        "outputId": "91b3e09d-b788-421e-f2f3-65f136cd29d8"
      },
      "source": [
        "### plot the function with yscale in \"log\"\n",
        "fig= plt.figure(figsize=(10,5))\n",
        "plt.plot(t, Ltarget)\n",
        "plt.plot(t, Lnew, linestyle = \"--\", color = \"red\")\n",
        "plt.yscale(\"log\")\n",
        "plt.show()"
      ],
      "execution_count": null,
      "outputs": [
        {
          "output_type": "display_data",
          "data": {
            "image/png": "[encoded data removed]",
            "text/plain": [
              "<Figure size 720x360 with 1 Axes>"
            ]
          },
          "metadata": {
            "tags": [],
            "needs_background": "light"
          }
        }
      ]
    },
    {
      "cell_type": "markdown",
      "metadata": {
        "id": "pQmEzhw57mXG"
      },
      "source": [
        "#**Step 2: Plot the Production Function**\n",
        "\n",
        "$y=A*k^{\\beta}$\n"
      ]
    },
    {
      "cell_type": "code",
      "metadata": {
        "id": "6XZXXKP0uH4A"
      },
      "source": [
        "beta = 0.5"
      ],
      "execution_count": null,
      "outputs": []
    },
    {
      "cell_type": "code",
      "metadata": {
        "id": "DjvdPehKuV0t"
      },
      "source": [
        "### define the function\n",
        "def y(k,A0):\n",
        "  y=A0*np.power(k,beta)\n",
        "  return y"
      ],
      "execution_count": null,
      "outputs": []
    },
    {
      "cell_type": "code",
      "metadata": {
        "id": "eFJ62CqxuUiz",
        "colab": {
          "base_uri": "https://localhost:8080/"
        },
        "outputId": "9cb215ab-7492-4413-b626-0fd06bc6d087"
      },
      "source": [
        "## check the initial condition\n",
        "y(k0,A)"
      ],
      "execution_count": null,
      "outputs": [
        {
          "output_type": "execute_result",
          "data": {
            "text/plain": [
              "10.0"
            ]
          },
          "metadata": {
            "tags": []
          },
          "execution_count": 982
        }
      ]
    },
    {
      "cell_type": "code",
      "metadata": {
        "id": "Y9ffYrhJuzgo"
      },
      "source": [
        "k = np.linspace(k0, 100)\n",
        "knew = np.linspace(k0new, 100)\n",
        "ytarget=y(k,A)\n",
        "ynew = y(knew,A)"
      ],
      "execution_count": null,
      "outputs": []
    },
    {
      "cell_type": "code",
      "metadata": {
        "id": "-2pVX3TGu8qd",
        "colab": {
          "base_uri": "https://localhost:8080/",
          "height": 320
        },
        "outputId": "d95d6582-dc8d-4b8f-b320-7d3bd292a778"
      },
      "source": [
        "### plot the function\n",
        "fig= plt.figure(figsize=(10,5))\n",
        "plt.plot(k, ytarget)\n",
        "plt.plot(knew, ynew, linestyle = \"--\", color = \"red\")\n",
        "plt.show()"
      ],
      "execution_count": null,
      "outputs": [
        {
          "output_type": "display_data",
          "data": {
            "image/png": "[encoded data removed]",
            "text/plain": [
              "<Figure size 720x360 with 1 Axes>"
            ]
          },
          "metadata": {
            "tags": [],
            "needs_background": "light"
          }
        }
      ]
    },
    {
      "cell_type": "markdown",
      "metadata": {
        "id": "bg1Wb2-GvLd4"
      },
      "source": [
        "#**Step 3: Solve for the steady State**\n",
        "\n",
        "Refers to Latex Symbol here: https://artofproblemsolving.com/wiki/index.php/LaTeX:Symbols\n",
        "\n",
        "$0=\\bigtriangleup k/k=s*y(k)-s*\\delta-n $\n"
      ]
    },
    {
      "cell_type": "markdown",
      "metadata": {
        "id": "ysgHOjd_yiXA"
      },
      "source": [
        "Plot $g(k)=s*A*k^{\\beta-1}$"
      ]
    },
    {
      "cell_type": "code",
      "metadata": {
        "id": "tshvg8UAyHZJ"
      },
      "source": [
        "def G(k,s0,A0):\n",
        "  g=s0*A0*np.power(k,beta-1)\n",
        "  return g"
      ],
      "execution_count": null,
      "outputs": []
    },
    {
      "cell_type": "code",
      "metadata": {
        "id": "M8sVmHWGy1Z2",
        "colab": {
          "base_uri": "https://localhost:8080/"
        },
        "outputId": "bf1f858e-2f04-4492-c01b-8e587ef6b90b"
      },
      "source": [
        "G(k0,s,A)"
      ],
      "execution_count": null,
      "outputs": [
        {
          "output_type": "execute_result",
          "data": {
            "text/plain": [
              "5.0"
            ]
          },
          "metadata": {
            "tags": []
          },
          "execution_count": 986
        }
      ]
    },
    {
      "cell_type": "code",
      "metadata": {
        "id": "DhJej8sSy6z_"
      },
      "source": [
        "k = np.linspace(k0, 100)\n",
        "knew = np.linspace(k0new, 100)\n",
        "g1=G(k,s,A)\n",
        "g2 = G(knew,s,A)\n",
        "g3 = G(k,snew,A)"
      ],
      "execution_count": null,
      "outputs": []
    },
    {
      "cell_type": "code",
      "metadata": {
        "id": "EnKvCmGzzHTg",
        "colab": {
          "base_uri": "https://localhost:8080/",
          "height": 322
        },
        "outputId": "16a9d276-86e9-4465-ab5b-ebd0c076e8fd"
      },
      "source": [
        "### plot the function\n",
        "fig= plt.figure(figsize=(10,5))\n",
        "plt.plot(k, g1)\n",
        "plt.plot(knew, g2, linestyle = \"--\", color = \"red\")\n",
        "plt.show()"
      ],
      "execution_count": null,
      "outputs": [
        {
          "output_type": "display_data",
          "data": {
            "image/png": "[encoded data removed]",
            "text/plain": [
              "<Figure size 720x360 with 1 Axes>"
            ]
          },
          "metadata": {
            "tags": [],
            "needs_background": "light"
          }
        }
      ]
    },
    {
      "cell_type": "code",
      "metadata": {
        "id": "BQ1rZQyQzLtr",
        "colab": {
          "base_uri": "https://localhost:8080/"
        },
        "outputId": "4a72071a-cea8-41b0-fc06-b251678e5bc2"
      },
      "source": [
        "def axhlineY(s0,delta0,n0):\n",
        "  axhliney = s0*delta0+n0\n",
        "  return axhliney\n",
        "axhlineY(s,delta,n)"
      ],
      "execution_count": null,
      "outputs": [
        {
          "output_type": "execute_result",
          "data": {
            "text/plain": [
              "2.05"
            ]
          },
          "metadata": {
            "tags": []
          },
          "execution_count": 989
        }
      ]
    },
    {
      "cell_type": "code",
      "metadata": {
        "id": "WuT8kdFgzQgj",
        "colab": {
          "base_uri": "https://localhost:8080/",
          "height": 345
        },
        "outputId": "f014ada7-ac08-4874-c83c-811b168c1609"
      },
      "source": [
        "### plot the function\n",
        "fig= plt.figure(figsize=(10,5))\n",
        "plt.plot(k, g1, label = \"L0 = 100, K0 = 100\")\n",
        "plt.plot(knew, g2, linestyle = \"--\", color = \"red\", label = \"L0 = 200, K0 = 150\")\n",
        "plt.axhline(axhlineY(s,delta,n))\n",
        "plt.xlabel('$k$',fontsize=20)\n",
        "plt.legend()\n",
        "plt.show()"
      ],
      "execution_count": null,
      "outputs": [
        {
          "output_type": "display_data",
          "data": {
            "image/png": "[encoded data removed]",
            "text/plain": [
              "<Figure size 720x360 with 1 Axes>"
            ]
          },
          "metadata": {
            "tags": [],
            "needs_background": "light"
          }
        }
      ]
    },
    {
      "cell_type": "code",
      "metadata": {
        "colab": {
          "base_uri": "https://localhost:8080/",
          "height": 343
        },
        "id": "xYsjiYpFs00U",
        "outputId": "dd244880-955c-42b9-e664-ae41a6bdc1c3"
      },
      "source": [
        "### plot the function\n",
        "fig= plt.figure(figsize=(10,5))\n",
        "plt.plot(k, g1, label = \"s = 0.5\")\n",
        "plt.plot(k, g3, linestyle = \"--\", color = \"red\", label = \"s = 0.7\")\n",
        "plt.axhline(axhlineY(s,delta,n))\n",
        "plt.axhline(axhlineY(snew,delta,n), linestyle = \"--\", color = \"red\")\n",
        "plt.xlabel('$k$',fontsize=20)\n",
        "plt.legend()\n",
        "plt.show()"
      ],
      "execution_count": null,
      "outputs": [
        {
          "output_type": "display_data",
          "data": {
            "image/png": "[encoded data removed]",
            "text/plain": [
              "<Figure size 720x360 with 1 Axes>"
            ]
          },
          "metadata": {
            "tags": [],
            "needs_background": "light"
          }
        }
      ]
    },
    {
      "cell_type": "code",
      "metadata": {
        "colab": {
          "base_uri": "https://localhost:8080/",
          "height": 343
        },
        "id": "wedU50LhuxcF",
        "outputId": "d8869634-f98a-4210-949c-f5551d33f0a9"
      },
      "source": [
        "### plot the function\n",
        "fig= plt.figure(figsize=(10,5))\n",
        "plt.plot(k, g1, label = \"delta = 0.1\")\n",
        "plt.plot(k, g1, linestyle = \"--\", color = \"red\", label = \"delta = 0.3\")\n",
        "plt.axhline(axhlineY(s,delta,n))\n",
        "plt.axhline(axhlineY(s,deltanew,n), linestyle = \"--\", color = \"red\")\n",
        "plt.xlabel('$k$',fontsize=20)\n",
        "plt.legend()\n",
        "plt.show()"
      ],
      "execution_count": null,
      "outputs": [
        {
          "output_type": "display_data",
          "data": {
            "image/png": "[encoded data removed]",
            "text/plain": [
              "<Figure size 720x360 with 1 Axes>"
            ]
          },
          "metadata": {
            "tags": [],
            "needs_background": "light"
          }
        }
      ]
    },
    {
      "cell_type": "code",
      "metadata": {
        "colab": {
          "base_uri": "https://localhost:8080/",
          "height": 343
        },
        "id": "LS1Kvcx4v6dR",
        "outputId": "8deae9b3-340b-46a6-d3e8-ea0beee207c5"
      },
      "source": [
        "### plot the function\n",
        "fig= plt.figure(figsize=(10,5))\n",
        "plt.plot(k, g1, label = \"n = 2\")\n",
        "plt.plot(k, g1, linestyle = \"--\", color = \"red\", label = \"n = 3\")\n",
        "plt.axhline(axhlineY(s,delta,n))\n",
        "plt.axhline(axhlineY(s,delta,nnew), linestyle = \"--\", color = \"red\")\n",
        "plt.xlabel('$k$',fontsize=20)\n",
        "plt.legend()\n",
        "plt.show()"
      ],
      "execution_count": null,
      "outputs": [
        {
          "output_type": "display_data",
          "data": {
            "image/png": "[encoded data removed]",
            "text/plain": [
              "<Figure size 720x360 with 1 Axes>"
            ]
          },
          "metadata": {
            "tags": [],
            "needs_background": "light"
          }
        }
      ]
    },
    {
      "cell_type": "markdown",
      "metadata": {
        "id": "qWlVODyy4LKn"
      },
      "source": [
        "### Solve for the steady state $k^{*}$"
      ]
    },
    {
      "cell_type": "code",
      "metadata": {
        "id": "W936ShPd3uNb",
        "colab": {
          "base_uri": "https://localhost:8080/"
        },
        "outputId": "0a70ed92-480d-4e08-8dab-a45a8624d370"
      },
      "source": [
        "def solvek(knum,s0,A0,delta0,n0):\n",
        "  knum=Symbol('knum')\n",
        "  k_steadytarget=solve(s0*A0*np.power(knum,beta)/knum-s0*delta0-n0,knum)\n",
        "  return k_steadytarget\n",
        "k_steady = solvek(k,s,A,delta,n)\n",
        "k_steady"
      ],
      "execution_count": null,
      "outputs": [
        {
          "output_type": "execute_result",
          "data": {
            "text/plain": [
              "[5.94883997620464]"
            ]
          },
          "metadata": {
            "tags": []
          },
          "execution_count": 994
        }
      ]
    },
    {
      "cell_type": "code",
      "metadata": {
        "colab": {
          "base_uri": "https://localhost:8080/"
        },
        "id": "0IyIoy8BXXse",
        "outputId": "d58c99b7-5538-4466-9673-3b8377349ed5"
      },
      "source": [
        "k_steady1 = solvek(knew,s,A,delta,n)\n",
        "k_steady1"
      ],
      "execution_count": null,
      "outputs": [
        {
          "output_type": "execute_result",
          "data": {
            "text/plain": [
              "[5.94883997620464]"
            ]
          },
          "metadata": {
            "tags": []
          },
          "execution_count": 995
        }
      ]
    },
    {
      "cell_type": "code",
      "metadata": {
        "colab": {
          "base_uri": "https://localhost:8080/"
        },
        "id": "CPP5FZrLtxeC",
        "outputId": "22de80eb-60f2-477d-e5d9-81432d731a62"
      },
      "source": [
        "k_steady2 = solvek(k,snew,A,delta,n)\n",
        "k_steady2"
      ],
      "execution_count": null,
      "outputs": [
        {
          "output_type": "execute_result",
          "data": {
            "text/plain": [
              "[11.4355060794884]"
            ]
          },
          "metadata": {
            "tags": []
          },
          "execution_count": 996
        }
      ]
    },
    {
      "cell_type": "code",
      "metadata": {
        "colab": {
          "base_uri": "https://localhost:8080/"
        },
        "id": "LpHHoMzWu58-",
        "outputId": "773c4454-00fc-4b1c-e5e7-4575849970e4"
      },
      "source": [
        "k_steady3 = solvek(k,s,A,deltanew,n)\n",
        "k_steady3"
      ],
      "execution_count": null,
      "outputs": [
        {
          "output_type": "execute_result",
          "data": {
            "text/plain": [
              "[5.40832882639265]"
            ]
          },
          "metadata": {
            "tags": []
          },
          "execution_count": 997
        }
      ]
    },
    {
      "cell_type": "code",
      "metadata": {
        "colab": {
          "base_uri": "https://localhost:8080/"
        },
        "id": "5Lj90DahwNAa",
        "outputId": "e011bc49-a775-4b30-d7aa-581e82f48387"
      },
      "source": [
        "k_steady4 = solvek(k,s,A,delta,nnew)\n",
        "k_steady4"
      ],
      "execution_count": null,
      "outputs": [
        {
          "output_type": "execute_result",
          "data": {
            "text/plain": [
              "[2.68744961031981]"
            ]
          },
          "metadata": {
            "tags": []
          },
          "execution_count": 998
        }
      ]
    },
    {
      "cell_type": "markdown",
      "metadata": {
        "id": "Gawwt2KA5Xf8"
      },
      "source": [
        "**Step 4: Plot the Steady State Economy**"
      ]
    },
    {
      "cell_type": "code",
      "metadata": {
        "id": "NW1fBHMH5t3o",
        "colab": {
          "base_uri": "https://localhost:8080/"
        },
        "outputId": "dba2dace-7501-42c3-8d5b-3300c64d0926"
      },
      "source": [
        "y_steady = A*np.power(k_steady,beta)\n",
        "y_steady"
      ],
      "execution_count": null,
      "outputs": [
        {
          "output_type": "execute_result",
          "data": {
            "text/plain": [
              "array([24.3902439024390], dtype=object)"
            ]
          },
          "metadata": {
            "tags": []
          },
          "execution_count": 999
        }
      ]
    },
    {
      "cell_type": "code",
      "metadata": {
        "colab": {
          "base_uri": "https://localhost:8080/"
        },
        "id": "682F-BN0Xwba",
        "outputId": "73bea0f9-925c-4af1-8341-56a66a8b6290"
      },
      "source": [
        "y_steady1 = A*np.power(k_steady1,beta)\n",
        "y_steady1"
      ],
      "execution_count": null,
      "outputs": [
        {
          "output_type": "execute_result",
          "data": {
            "text/plain": [
              "array([24.3902439024390], dtype=object)"
            ]
          },
          "metadata": {
            "tags": []
          },
          "execution_count": 1000
        }
      ]
    },
    {
      "cell_type": "code",
      "metadata": {
        "colab": {
          "base_uri": "https://localhost:8080/"
        },
        "id": "hh7J5M76t4xy",
        "outputId": "68b6356c-50c8-4abf-9307-44e8883ffda3"
      },
      "source": [
        "y_steady2 = A*np.power(k_steady2,beta)\n",
        "y_steady2"
      ],
      "execution_count": null,
      "outputs": [
        {
          "output_type": "execute_result",
          "data": {
            "text/plain": [
              "array([33.8164251207729], dtype=object)"
            ]
          },
          "metadata": {
            "tags": []
          },
          "execution_count": 1001
        }
      ]
    },
    {
      "cell_type": "code",
      "metadata": {
        "colab": {
          "base_uri": "https://localhost:8080/"
        },
        "id": "ahDHhSgau_ZS",
        "outputId": "fa96cd0c-eb49-4271-e7ab-192146a8add4"
      },
      "source": [
        "y_steady3 = A*np.power(k_steady3,beta)\n",
        "y_steady3"
      ],
      "execution_count": null,
      "outputs": [
        {
          "output_type": "execute_result",
          "data": {
            "text/plain": [
              "array([23.2558139534884], dtype=object)"
            ]
          },
          "metadata": {
            "tags": []
          },
          "execution_count": 1002
        }
      ]
    },
    {
      "cell_type": "code",
      "metadata": {
        "colab": {
          "base_uri": "https://localhost:8080/"
        },
        "id": "HEr14UiIwRba",
        "outputId": "8b6c7859-a4df-4bc2-8adc-29ee429ed4c0"
      },
      "source": [
        "y_steady4 = A*np.power(k_steady4,beta)\n",
        "y_steady4"
      ],
      "execution_count": null,
      "outputs": [
        {
          "output_type": "execute_result",
          "data": {
            "text/plain": [
              "array([16.3934426229508], dtype=object)"
            ]
          },
          "metadata": {
            "tags": []
          },
          "execution_count": 1003
        }
      ]
    },
    {
      "cell_type": "code",
      "metadata": {
        "id": "-tB1_9zS3xuS"
      },
      "source": [
        "def Y(t):\n",
        "  Y = y_steady*L0*np.exp(n*t)\n",
        "  return Y"
      ],
      "execution_count": null,
      "outputs": []
    },
    {
      "cell_type": "code",
      "metadata": {
        "id": "YUrVdZGr6Ji3"
      },
      "source": [
        "t = np.linspace(0, 10)\n",
        "Y=Y(t)"
      ],
      "execution_count": null,
      "outputs": []
    },
    {
      "cell_type": "code",
      "metadata": {
        "id": "A40Z24lx6URG",
        "colab": {
          "base_uri": "https://localhost:8080/",
          "height": 331
        },
        "outputId": "727abc83-3292-4121-fb3d-c9d5d4fd3f26"
      },
      "source": [
        "### plot the function\n",
        "fig= plt.figure(figsize=(10,5))\n",
        "plt.plot(t, Y)\n",
        "plt.show()"
      ],
      "execution_count": null,
      "outputs": [
        {
          "output_type": "display_data",
          "data": {
            "image/png": "[encoded data removed]",
            "text/plain": [
              "<Figure size 720x360 with 1 Axes>"
            ]
          },
          "metadata": {
            "tags": [],
            "needs_background": "light"
          }
        }
      ]
    },
    {
      "cell_type": "markdown",
      "metadata": {
        "id": "hrJ4RCc2nKpy"
      },
      "source": [
        "#**Technology Growth**\n",
        "\n",
        "#$y=y(0)*e^{at}$"
      ]
    },
    {
      "cell_type": "code",
      "metadata": {
        "id": "HESqAWZTO7kc"
      },
      "source": [
        "### define the function\n",
        "def y(t):\n",
        "  y = y0*np.exp(a*t)\n",
        "  return y"
      ],
      "execution_count": null,
      "outputs": []
    },
    {
      "cell_type": "markdown",
      "metadata": {
        "id": "a-cZ3SoV2vdH"
      },
      "source": [
        "**When technology level a=0**"
      ]
    },
    {
      "cell_type": "code",
      "metadata": {
        "id": "-_b9AbHGnUQf"
      },
      "source": [
        "y0=y_steady\n",
        "a=1"
      ],
      "execution_count": null,
      "outputs": []
    },
    {
      "cell_type": "code",
      "metadata": {
        "id": "B19yTwhznb_k",
        "colab": {
          "base_uri": "https://localhost:8080/"
        },
        "outputId": "286de33f-5d1b-4d70-b8a8-fc5c3429bc4a"
      },
      "source": [
        "t = np.linspace(0, 10)\n",
        "y1 =y(t)\n",
        "ytest1 = y(4)\n",
        "ytest1"
      ],
      "execution_count": null,
      "outputs": [
        {
          "output_type": "execute_result",
          "data": {
            "text/plain": [
              "array([1331.66219593035], dtype=object)"
            ]
          },
          "metadata": {
            "tags": []
          },
          "execution_count": 1009
        }
      ]
    },
    {
      "cell_type": "code",
      "metadata": {
        "id": "C8vmcvq3nnC0",
        "colab": {
          "base_uri": "https://localhost:8080/",
          "height": 320
        },
        "outputId": "17708c01-c4de-43df-b10b-5e8b7537bac5"
      },
      "source": [
        "### plot the function\n",
        "fig= plt.figure(figsize=(10,5))\n",
        "plt.plot(t, y1)\n",
        "plt.show()"
      ],
      "execution_count": null,
      "outputs": [
        {
          "output_type": "display_data",
          "data": {
            "image/png": "[encoded data removed]",
            "text/plain": [
              "<Figure size 720x360 with 1 Axes>"
            ]
          },
          "metadata": {
            "tags": [],
            "needs_background": "light"
          }
        }
      ]
    },
    {
      "cell_type": "markdown",
      "metadata": {
        "id": "swdVAY3f2yrS"
      },
      "source": [
        "## when technology level a=1\n",
        "\n",
        "## Note: We can change the value of a in the next box and go to Runtime and choose run all. Then you will see the new figure for the comparative statics of a."
      ]
    },
    {
      "cell_type": "code",
      "metadata": {
        "id": "PRPwtCVUno6D"
      },
      "source": [
        "y0=y_steady\n",
        "a=2"
      ],
      "execution_count": null,
      "outputs": []
    },
    {
      "cell_type": "code",
      "metadata": {
        "id": "jwloBno5nwCz",
        "colab": {
          "base_uri": "https://localhost:8080/"
        },
        "outputId": "a056d245-c74f-45ba-f7b6-004a781e496e"
      },
      "source": [
        "t = np.linspace(0, 10)\n",
        "y2 =y(t)\n",
        "ytest2 = y(4)\n",
        "ytest2"
      ],
      "execution_count": null,
      "outputs": [
        {
          "output_type": "execute_result",
          "data": {
            "text/plain": [
              "array([72706.2923668714], dtype=object)"
            ]
          },
          "metadata": {
            "tags": []
          },
          "execution_count": 1012
        }
      ]
    },
    {
      "cell_type": "code",
      "metadata": {
        "id": "AxHBGoxbn0FI",
        "colab": {
          "base_uri": "https://localhost:8080/",
          "height": 338
        },
        "outputId": "7a7d3bbb-2f38-407b-db1e-fdf35dd5b9a8"
      },
      "source": [
        "### plot the function\n",
        "fig= plt.figure(figsize=(10,5))\n",
        "plt.plot(t,y1,label='a=1')\n",
        "plt.plot(t,y2,label=\"a=2\")\n",
        "plt.legend ()\n",
        "plt.title(\"Steady State GDP per capita $y$ with different technology level growth rate $a$\",fontsize=12)\n",
        "plt.show()"
      ],
      "execution_count": null,
      "outputs": [
        {
          "output_type": "display_data",
          "data": {
            "image/png": "[encoded data removed]",
            "text/plain": [
              "<Figure size 720x360 with 1 Axes>"
            ]
          },
          "metadata": {
            "tags": [],
            "needs_background": "light"
          }
        }
      ]
    }
  ]
}